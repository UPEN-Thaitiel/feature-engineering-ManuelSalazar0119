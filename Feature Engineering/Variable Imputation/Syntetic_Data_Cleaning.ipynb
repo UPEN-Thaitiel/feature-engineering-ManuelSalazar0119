{
 "cells": [
  {
   "cell_type": "markdown",
   "id": "bf7ade20",
   "metadata": {},
   "source": [
    "#### Student Depression Variable Imputation\n",
    "\n",
    "**Name:** Manuel Ibañez Salazar\n"
   ]
  },
  {
   "cell_type": "markdown",
   "id": "f5955074",
   "metadata": {},
   "source": [
    "#### Import Libraries"
   ]
  },
  {
   "cell_type": "code",
   "execution_count": 2,
   "id": "ca7cdaaa",
   "metadata": {},
   "outputs": [],
   "source": [
    "import pandas as pd\n",
    "import numpy as np\n",
    "import matplotlib.pyplot as plt\n",
    "import seaborn as sns\n",
    "from sklearn.impute import SimpleImputer\n",
    "from sklearn.preprocessing import StandardScaler, OneHotEncoder\n",
    "from sklearn.compose import ColumnTransformer\n",
    "from sklearn.pipeline import Pipeline\n",
    "from pathlib import Path\n",
    "plt.style.use('ggplot')\n",
    "sns.set_palette(\"husl\")\n",
    "%matplotlib inline"
   ]
  },
  {
   "cell_type": "markdown",
   "id": "b6a4bd2a",
   "metadata": {},
   "source": [
    "#### Read Dataset"
   ]
  },
  {
   "cell_type": "code",
   "execution_count": null,
   "id": "6fa5b522",
   "metadata": {},
   "outputs": [
    {
     "name": "stdout",
     "output_type": "stream",
     "text": [
      " Datos cargados exitosamente\n",
      "\n",
      " Metadatos del dataset:\n",
      "- Filas: 104\n",
      "- Columnas: 5\n",
      "- Tamaño: 0.01 MB\n",
      "\n",
      " Primeras 3 filas:\n"
     ]
    },
    {
     "data": {
      "text/html": [
       "<div>\n",
       "<style scoped>\n",
       "    .dataframe tbody tr th:only-of-type {\n",
       "        vertical-align: middle;\n",
       "    }\n",
       "\n",
       "    .dataframe tbody tr th {\n",
       "        vertical-align: top;\n",
       "    }\n",
       "\n",
       "    .dataframe thead th {\n",
       "        text-align: right;\n",
       "    }\n",
       "</style>\n",
       "<table border=\"1\" class=\"dataframe\">\n",
       "  <thead>\n",
       "    <tr style=\"text-align: right;\">\n",
       "      <th></th>\n",
       "      <th>Age</th>\n",
       "      <th>Income</th>\n",
       "      <th>Gender</th>\n",
       "      <th>Registered</th>\n",
       "      <th>City</th>\n",
       "    </tr>\n",
       "  </thead>\n",
       "  <tbody>\n",
       "    <tr>\n",
       "      <th>0</th>\n",
       "      <td>34.967142</td>\n",
       "      <td>28769.438869</td>\n",
       "      <td>Male</td>\n",
       "      <td>1.0</td>\n",
       "      <td>New York</td>\n",
       "    </tr>\n",
       "    <tr>\n",
       "      <th>1</th>\n",
       "      <td>28.617357</td>\n",
       "      <td>43690.320159</td>\n",
       "      <td>Female</td>\n",
       "      <td>0.0</td>\n",
       "      <td>Paris</td>\n",
       "    </tr>\n",
       "    <tr>\n",
       "      <th>2</th>\n",
       "      <td>36.476885</td>\n",
       "      <td>44859.282252</td>\n",
       "      <td>MALE</td>\n",
       "      <td>1.0</td>\n",
       "      <td>Tokyo</td>\n",
       "    </tr>\n",
       "  </tbody>\n",
       "</table>\n",
       "</div>"
      ],
      "text/plain": [
       "         Age        Income  Gender  Registered      City\n",
       "0  34.967142  28769.438869    Male         1.0  New York\n",
       "1  28.617357  43690.320159  Female         0.0     Paris\n",
       "2  36.476885  44859.282252    MALE         1.0     Tokyo"
      ]
     },
     "metadata": {},
     "output_type": "display_data"
    },
    {
     "name": "stdout",
     "output_type": "stream",
     "text": [
      "\n",
      " Tipos de datos:\n"
     ]
    },
    {
     "data": {
      "text/html": [
       "<div>\n",
       "<style scoped>\n",
       "    .dataframe tbody tr th:only-of-type {\n",
       "        vertical-align: middle;\n",
       "    }\n",
       "\n",
       "    .dataframe tbody tr th {\n",
       "        vertical-align: top;\n",
       "    }\n",
       "\n",
       "    .dataframe thead th {\n",
       "        text-align: right;\n",
       "    }\n",
       "</style>\n",
       "<table border=\"1\" class=\"dataframe\">\n",
       "  <thead>\n",
       "    <tr style=\"text-align: right;\">\n",
       "      <th></th>\n",
       "      <th>dtype</th>\n",
       "    </tr>\n",
       "  </thead>\n",
       "  <tbody>\n",
       "    <tr>\n",
       "      <th>Age</th>\n",
       "      <td>float64</td>\n",
       "    </tr>\n",
       "    <tr>\n",
       "      <th>Income</th>\n",
       "      <td>float64</td>\n",
       "    </tr>\n",
       "    <tr>\n",
       "      <th>Gender</th>\n",
       "      <td>object</td>\n",
       "    </tr>\n",
       "    <tr>\n",
       "      <th>Registered</th>\n",
       "      <td>float64</td>\n",
       "    </tr>\n",
       "    <tr>\n",
       "      <th>City</th>\n",
       "      <td>object</td>\n",
       "    </tr>\n",
       "  </tbody>\n",
       "</table>\n",
       "</div>"
      ],
      "text/plain": [
       "              dtype\n",
       "Age         float64\n",
       "Income      float64\n",
       "Gender       object\n",
       "Registered  float64\n",
       "City         object"
      ]
     },
     "metadata": {},
     "output_type": "display_data"
    },
    {
     "name": "stdout",
     "output_type": "stream",
     "text": [
      "\n",
      " Valores faltantes:\n"
     ]
    },
    {
     "data": {
      "text/html": [
       "<div>\n",
       "<style scoped>\n",
       "    .dataframe tbody tr th:only-of-type {\n",
       "        vertical-align: middle;\n",
       "    }\n",
       "\n",
       "    .dataframe tbody tr th {\n",
       "        vertical-align: top;\n",
       "    }\n",
       "\n",
       "    .dataframe thead th {\n",
       "        text-align: right;\n",
       "    }\n",
       "</style>\n",
       "<table border=\"1\" class=\"dataframe\">\n",
       "  <thead>\n",
       "    <tr style=\"text-align: right;\">\n",
       "      <th></th>\n",
       "      <th>missing_count</th>\n",
       "    </tr>\n",
       "  </thead>\n",
       "  <tbody>\n",
       "    <tr>\n",
       "      <th>Age</th>\n",
       "      <td>1</td>\n",
       "    </tr>\n",
       "    <tr>\n",
       "      <th>Income</th>\n",
       "      <td>1</td>\n",
       "    </tr>\n",
       "    <tr>\n",
       "      <th>Gender</th>\n",
       "      <td>20</td>\n",
       "    </tr>\n",
       "    <tr>\n",
       "      <th>Registered</th>\n",
       "      <td>1</td>\n",
       "    </tr>\n",
       "    <tr>\n",
       "      <th>City</th>\n",
       "      <td>1</td>\n",
       "    </tr>\n",
       "  </tbody>\n",
       "</table>\n",
       "</div>"
      ],
      "text/plain": [
       "            missing_count\n",
       "Age                     1\n",
       "Income                  1\n",
       "Gender                 20\n",
       "Registered              1\n",
       "City                    1"
      ]
     },
     "metadata": {},
     "output_type": "display_data"
    },
    {
     "name": "stdout",
     "output_type": "stream",
     "text": [
      "Dimensiones del dataset: (104, 5)\n"
     ]
    },
    {
     "data": {
      "text/html": [
       "<div>\n",
       "<style scoped>\n",
       "    .dataframe tbody tr th:only-of-type {\n",
       "        vertical-align: middle;\n",
       "    }\n",
       "\n",
       "    .dataframe tbody tr th {\n",
       "        vertical-align: top;\n",
       "    }\n",
       "\n",
       "    .dataframe thead th {\n",
       "        text-align: right;\n",
       "    }\n",
       "</style>\n",
       "<table border=\"1\" class=\"dataframe\">\n",
       "  <thead>\n",
       "    <tr style=\"text-align: right;\">\n",
       "      <th></th>\n",
       "      <th>Age</th>\n",
       "      <th>Income</th>\n",
       "      <th>Gender</th>\n",
       "      <th>Registered</th>\n",
       "      <th>City</th>\n",
       "    </tr>\n",
       "  </thead>\n",
       "  <tbody>\n",
       "    <tr>\n",
       "      <th>0</th>\n",
       "      <td>34.967142</td>\n",
       "      <td>28769.438869</td>\n",
       "      <td>Male</td>\n",
       "      <td>1.0</td>\n",
       "      <td>New York</td>\n",
       "    </tr>\n",
       "    <tr>\n",
       "      <th>1</th>\n",
       "      <td>28.617357</td>\n",
       "      <td>43690.320159</td>\n",
       "      <td>Female</td>\n",
       "      <td>0.0</td>\n",
       "      <td>Paris</td>\n",
       "    </tr>\n",
       "    <tr>\n",
       "      <th>2</th>\n",
       "      <td>36.476885</td>\n",
       "      <td>44859.282252</td>\n",
       "      <td>MALE</td>\n",
       "      <td>1.0</td>\n",
       "      <td>Tokyo</td>\n",
       "    </tr>\n",
       "    <tr>\n",
       "      <th>3</th>\n",
       "      <td>45.230299</td>\n",
       "      <td>37965.840962</td>\n",
       "      <td>FEMALE</td>\n",
       "      <td>0.0</td>\n",
       "      <td>Berlin</td>\n",
       "    </tr>\n",
       "    <tr>\n",
       "      <th>4</th>\n",
       "      <td>27.658466</td>\n",
       "      <td>47580.714325</td>\n",
       "      <td>male</td>\n",
       "      <td>1.0</td>\n",
       "      <td>New York</td>\n",
       "    </tr>\n",
       "  </tbody>\n",
       "</table>\n",
       "</div>"
      ],
      "text/plain": [
       "         Age        Income  Gender  Registered      City\n",
       "0  34.967142  28769.438869    Male         1.0  New York\n",
       "1  28.617357  43690.320159  Female         0.0     Paris\n",
       "2  36.476885  44859.282252    MALE         1.0     Tokyo\n",
       "3  45.230299  37965.840962  FEMALE         0.0    Berlin\n",
       "4  27.658466  47580.714325    male         1.0  New York"
      ]
     },
     "metadata": {},
     "output_type": "display_data"
    },
    {
     "name": "stdout",
     "output_type": "stream",
     "text": [
      "\n",
      "Información del dataset:\n",
      "<class 'pandas.core.frame.DataFrame'>\n",
      "RangeIndex: 104 entries, 0 to 103\n",
      "Data columns (total 5 columns):\n",
      " #   Column      Non-Null Count  Dtype  \n",
      "---  ------      --------------  -----  \n",
      " 0   Age         103 non-null    float64\n",
      " 1   Income      103 non-null    float64\n",
      " 2   Gender      84 non-null     object \n",
      " 3   Registered  103 non-null    float64\n",
      " 4   City        103 non-null    object \n",
      "dtypes: float64(3), object(2)\n",
      "memory usage: 4.2+ KB\n"
     ]
    }
   ],
   "source": [
    "\n",
    "def load_and_validate_data(file_path):\n",
    "    \"\"\"\n",
    "    Carga y valida el dataset con verificaciones exhaustivas\n",
    "    \n",
    "    Parámetros:\n",
    "    -----------\n",
    "    file_path : str\n",
    "        Ruta del archivo CSV a cargar\n",
    "        \n",
    "    Retorna:\n",
    "    --------\n",
    "    DataFrame\n",
    "        DataFrame validado con metadatos\n",
    "    \"\"\"\n",
    "   \n",
    "    if not Path(file_path).exists():\n",
    "        raise FileNotFoundError(f\"El archivo {file_path} no existe\")\n",
    "    \n",
    "  \n",
    "    try:\n",
    "        df = pd.read_csv(file_path, engine='python')\n",
    "    except Exception as e:\n",
    "        raise ValueError(f\"Error al leer el archivo: {str(e)}\")\n",
    "    \n",
    "    \n",
    "    required_columns = {'Age', 'Income', 'Gender', 'Registered', 'City'}\n",
    "    if not required_columns.issubset(df.columns):\n",
    "        missing = required_columns - set(df.columns)\n",
    "        raise ValueError(f\"Columnas faltantes: {missing}\")\n",
    "    \n",
    "    \n",
    "    meta = {\n",
    "        'file_name': Path(file_path).name,\n",
    "        'file_size_MB': Path(file_path).stat().st_size / (1024 * 1024),\n",
    "        'num_rows': len(df),\n",
    "        'num_columns': len(df.columns),\n",
    "        'columns': list(df.columns),\n",
    "        'dtypes': dict(df.dtypes),\n",
    "        'missing_values': df.isna().sum().to_dict()\n",
    "    }\n",
    "    \n",
    "    return df, meta\n",
    "\n",
    "try:\n",
    "    df_raw, metadata = load_and_validate_data('Synthetic_Data_Cleaning_example.csv')\n",
    "    \n",
    "    print(\" Datos cargados exitosamente\")\n",
    "    print(\"\\n Metadatos del dataset:\")\n",
    "    print(f\"- Filas: {metadata['num_rows']}\")\n",
    "    print(f\"- Columnas: {metadata['num_columns']}\")\n",
    "    print(f\"- Tamaño: {metadata['file_size_MB']:.2f} MB\")\n",
    "    print(\"\\n Primeras 3 filas:\")\n",
    "    display(df_raw.head(3))\n",
    "    \n",
    "    print(\"\\n Tipos de datos:\")\n",
    "    display(pd.DataFrame.from_dict(metadata['dtypes'], \n",
    "                                 orient='index', \n",
    "                                 columns=['dtype']))\n",
    "    \n",
    "    print(\"\\n Valores faltantes:\")\n",
    "    display(pd.DataFrame.from_dict(metadata['missing_values'], \n",
    "                                 orient='index', \n",
    "                                 columns=['missing_count']))\n",
    "    \n",
    "except Exception as e:\n",
    "    print(f\" Error: {str(e)}\")\n",
    "    df_raw = pd.DataFrame()\n",
    "    metadata = {}\n",
    "\n",
    "df = pd.read_csv('Synthetic_Data_Cleaning_example.csv')\n",
    "\n",
    "print(\"Dimensiones del dataset:\", df.shape)\n",
    "display(df.head())\n",
    "print(\"\\nInformación del dataset:\")\n",
    "df.info()"
   ]
  },
  {
   "cell_type": "markdown",
   "id": "294c7ae7",
   "metadata": {},
   "source": [
    "#### Exploratory Data Analysis"
   ]
  },
  {
   "cell_type": "code",
   "execution_count": 8,
   "id": "d0793ea6",
   "metadata": {},
   "outputs": [
    {
     "name": "stdout",
     "output_type": "stream",
     "text": [
      "Estadísticas descriptivas:\n"
     ]
    },
    {
     "data": {
      "text/html": [
       "<div>\n",
       "<style scoped>\n",
       "    .dataframe tbody tr th:only-of-type {\n",
       "        vertical-align: middle;\n",
       "    }\n",
       "\n",
       "    .dataframe tbody tr th {\n",
       "        vertical-align: top;\n",
       "    }\n",
       "\n",
       "    .dataframe thead th {\n",
       "        text-align: right;\n",
       "    }\n",
       "</style>\n",
       "<table border=\"1\" class=\"dataframe\">\n",
       "  <thead>\n",
       "    <tr style=\"text-align: right;\">\n",
       "      <th></th>\n",
       "      <th>Age</th>\n",
       "      <th>Income</th>\n",
       "      <th>Gender</th>\n",
       "      <th>Registered</th>\n",
       "      <th>City</th>\n",
       "    </tr>\n",
       "  </thead>\n",
       "  <tbody>\n",
       "    <tr>\n",
       "      <th>count</th>\n",
       "      <td>103.000000</td>\n",
       "      <td>103.000000</td>\n",
       "      <td>84</td>\n",
       "      <td>103.000000</td>\n",
       "      <td>103</td>\n",
       "    </tr>\n",
       "    <tr>\n",
       "      <th>unique</th>\n",
       "      <td>NaN</td>\n",
       "      <td>NaN</td>\n",
       "      <td>8</td>\n",
       "      <td>NaN</td>\n",
       "      <td>4</td>\n",
       "    </tr>\n",
       "    <tr>\n",
       "      <th>top</th>\n",
       "      <td>NaN</td>\n",
       "      <td>NaN</td>\n",
       "      <td>Male</td>\n",
       "      <td>NaN</td>\n",
       "      <td>New York</td>\n",
       "    </tr>\n",
       "    <tr>\n",
       "      <th>freq</th>\n",
       "      <td>NaN</td>\n",
       "      <td>NaN</td>\n",
       "      <td>12</td>\n",
       "      <td>NaN</td>\n",
       "      <td>27</td>\n",
       "    </tr>\n",
       "    <tr>\n",
       "      <th>mean</th>\n",
       "      <td>29.573987</td>\n",
       "      <td>51079.867179</td>\n",
       "      <td>NaN</td>\n",
       "      <td>0.504854</td>\n",
       "      <td>NaN</td>\n",
       "    </tr>\n",
       "    <tr>\n",
       "      <th>std</th>\n",
       "      <td>13.137300</td>\n",
       "      <td>21167.304578</td>\n",
       "      <td>NaN</td>\n",
       "      <td>0.502421</td>\n",
       "      <td>NaN</td>\n",
       "    </tr>\n",
       "    <tr>\n",
       "      <th>min</th>\n",
       "      <td>-5.000000</td>\n",
       "      <td>-1000.000000</td>\n",
       "      <td>NaN</td>\n",
       "      <td>0.000000</td>\n",
       "      <td>NaN</td>\n",
       "    </tr>\n",
       "    <tr>\n",
       "      <th>25%</th>\n",
       "      <td>23.988273</td>\n",
       "      <td>37726.305475</td>\n",
       "      <td>NaN</td>\n",
       "      <td>0.000000</td>\n",
       "      <td>NaN</td>\n",
       "    </tr>\n",
       "    <tr>\n",
       "      <th>50%</th>\n",
       "      <td>28.843517</td>\n",
       "      <td>51028.444622</td>\n",
       "      <td>NaN</td>\n",
       "      <td>1.000000</td>\n",
       "      <td>NaN</td>\n",
       "    </tr>\n",
       "    <tr>\n",
       "      <th>75%</th>\n",
       "      <td>34.967142</td>\n",
       "      <td>58315.989946</td>\n",
       "      <td>NaN</td>\n",
       "      <td>1.000000</td>\n",
       "      <td>NaN</td>\n",
       "    </tr>\n",
       "    <tr>\n",
       "      <th>max</th>\n",
       "      <td>120.000000</td>\n",
       "      <td>200000.000000</td>\n",
       "      <td>NaN</td>\n",
       "      <td>1.000000</td>\n",
       "      <td>NaN</td>\n",
       "    </tr>\n",
       "  </tbody>\n",
       "</table>\n",
       "</div>"
      ],
      "text/plain": [
       "               Age         Income Gender  Registered      City\n",
       "count   103.000000     103.000000     84  103.000000       103\n",
       "unique         NaN            NaN      8         NaN         4\n",
       "top            NaN            NaN   Male         NaN  New York\n",
       "freq           NaN            NaN     12         NaN        27\n",
       "mean     29.573987   51079.867179    NaN    0.504854       NaN\n",
       "std      13.137300   21167.304578    NaN    0.502421       NaN\n",
       "min      -5.000000   -1000.000000    NaN    0.000000       NaN\n",
       "25%      23.988273   37726.305475    NaN    0.000000       NaN\n",
       "50%      28.843517   51028.444622    NaN    1.000000       NaN\n",
       "75%      34.967142   58315.989946    NaN    1.000000       NaN\n",
       "max     120.000000  200000.000000    NaN    1.000000       NaN"
      ]
     },
     "metadata": {},
     "output_type": "display_data"
    },
    {
     "name": "stdout",
     "output_type": "stream",
     "text": [
      "\n",
      "Valores faltantes por columna:\n"
     ]
    },
    {
     "data": {
      "text/plain": [
       "Age            1\n",
       "Income         1\n",
       "Gender        20\n",
       "Registered     1\n",
       "City           1\n",
       "dtype: int64"
      ]
     },
     "metadata": {},
     "output_type": "display_data"
    },
    {
     "name": "stdout",
     "output_type": "stream",
     "text": [
      "\n",
      "Distribución de género:\n"
     ]
    },
    {
     "data": {
      "text/plain": [
       "Gender\n",
       "NaN       20\n",
       "Male      12\n",
       "Female    11\n",
       "MALE      11\n",
       "FEMALE    10\n",
       "male      10\n",
       "female    10\n",
       "femle     10\n",
       "Femael    10\n",
       "Name: count, dtype: int64"
      ]
     },
     "metadata": {},
     "output_type": "display_data"
    },
    {
     "name": "stdout",
     "output_type": "stream",
     "text": [
      "\n",
      "Ciudades más comunes:\n"
     ]
    },
    {
     "data": {
      "text/plain": [
       "City\n",
       "New York    27\n",
       "Berlin      26\n",
       "Paris       25\n",
       "Tokyo       25\n",
       "NaN          1\n",
       "Name: count, dtype: int64"
      ]
     },
     "metadata": {},
     "output_type": "display_data"
    }
   ],
   "source": [
    "\n",
    "print(\"Estadísticas descriptivas:\")\n",
    "display(df.describe(include='all'))\n",
    "\n",
    "\n",
    "print(\"\\nValores faltantes por columna:\")\n",
    "display(df.isnull().sum())\n",
    "\n",
    "print(\"\\nDistribución de género:\")\n",
    "display(df['Gender'].value_counts(dropna=False))\n",
    "\n",
    "print(\"\\nCiudades más comunes:\")\n",
    "display(df['City'].value_counts(dropna=False))"
   ]
  },
  {
   "cell_type": "markdown",
   "id": "cb247a04",
   "metadata": {},
   "source": [
    "### Exploratory Data Analysis (EDA)"
   ]
  },
  {
   "cell_type": "code",
   "execution_count": 9,
   "id": "529c12e1",
   "metadata": {},
   "outputs": [
    {
     "name": "stdout",
     "output_type": "stream",
     "text": [
      "Estadísticas descriptivas:\n"
     ]
    },
    {
     "data": {
      "text/html": [
       "<div>\n",
       "<style scoped>\n",
       "    .dataframe tbody tr th:only-of-type {\n",
       "        vertical-align: middle;\n",
       "    }\n",
       "\n",
       "    .dataframe tbody tr th {\n",
       "        vertical-align: top;\n",
       "    }\n",
       "\n",
       "    .dataframe thead th {\n",
       "        text-align: right;\n",
       "    }\n",
       "</style>\n",
       "<table border=\"1\" class=\"dataframe\">\n",
       "  <thead>\n",
       "    <tr style=\"text-align: right;\">\n",
       "      <th></th>\n",
       "      <th>Age</th>\n",
       "      <th>Income</th>\n",
       "      <th>Gender</th>\n",
       "      <th>Registered</th>\n",
       "      <th>City</th>\n",
       "    </tr>\n",
       "  </thead>\n",
       "  <tbody>\n",
       "    <tr>\n",
       "      <th>count</th>\n",
       "      <td>103.000000</td>\n",
       "      <td>103.000000</td>\n",
       "      <td>84</td>\n",
       "      <td>103.000000</td>\n",
       "      <td>103</td>\n",
       "    </tr>\n",
       "    <tr>\n",
       "      <th>unique</th>\n",
       "      <td>NaN</td>\n",
       "      <td>NaN</td>\n",
       "      <td>8</td>\n",
       "      <td>NaN</td>\n",
       "      <td>4</td>\n",
       "    </tr>\n",
       "    <tr>\n",
       "      <th>top</th>\n",
       "      <td>NaN</td>\n",
       "      <td>NaN</td>\n",
       "      <td>Male</td>\n",
       "      <td>NaN</td>\n",
       "      <td>New York</td>\n",
       "    </tr>\n",
       "    <tr>\n",
       "      <th>freq</th>\n",
       "      <td>NaN</td>\n",
       "      <td>NaN</td>\n",
       "      <td>12</td>\n",
       "      <td>NaN</td>\n",
       "      <td>27</td>\n",
       "    </tr>\n",
       "    <tr>\n",
       "      <th>mean</th>\n",
       "      <td>29.573987</td>\n",
       "      <td>51079.867179</td>\n",
       "      <td>NaN</td>\n",
       "      <td>0.504854</td>\n",
       "      <td>NaN</td>\n",
       "    </tr>\n",
       "    <tr>\n",
       "      <th>std</th>\n",
       "      <td>13.137300</td>\n",
       "      <td>21167.304578</td>\n",
       "      <td>NaN</td>\n",
       "      <td>0.502421</td>\n",
       "      <td>NaN</td>\n",
       "    </tr>\n",
       "    <tr>\n",
       "      <th>min</th>\n",
       "      <td>-5.000000</td>\n",
       "      <td>-1000.000000</td>\n",
       "      <td>NaN</td>\n",
       "      <td>0.000000</td>\n",
       "      <td>NaN</td>\n",
       "    </tr>\n",
       "    <tr>\n",
       "      <th>25%</th>\n",
       "      <td>23.988273</td>\n",
       "      <td>37726.305475</td>\n",
       "      <td>NaN</td>\n",
       "      <td>0.000000</td>\n",
       "      <td>NaN</td>\n",
       "    </tr>\n",
       "    <tr>\n",
       "      <th>50%</th>\n",
       "      <td>28.843517</td>\n",
       "      <td>51028.444622</td>\n",
       "      <td>NaN</td>\n",
       "      <td>1.000000</td>\n",
       "      <td>NaN</td>\n",
       "    </tr>\n",
       "    <tr>\n",
       "      <th>75%</th>\n",
       "      <td>34.967142</td>\n",
       "      <td>58315.989946</td>\n",
       "      <td>NaN</td>\n",
       "      <td>1.000000</td>\n",
       "      <td>NaN</td>\n",
       "    </tr>\n",
       "    <tr>\n",
       "      <th>max</th>\n",
       "      <td>120.000000</td>\n",
       "      <td>200000.000000</td>\n",
       "      <td>NaN</td>\n",
       "      <td>1.000000</td>\n",
       "      <td>NaN</td>\n",
       "    </tr>\n",
       "  </tbody>\n",
       "</table>\n",
       "</div>"
      ],
      "text/plain": [
       "               Age         Income Gender  Registered      City\n",
       "count   103.000000     103.000000     84  103.000000       103\n",
       "unique         NaN            NaN      8         NaN         4\n",
       "top            NaN            NaN   Male         NaN  New York\n",
       "freq           NaN            NaN     12         NaN        27\n",
       "mean     29.573987   51079.867179    NaN    0.504854       NaN\n",
       "std      13.137300   21167.304578    NaN    0.502421       NaN\n",
       "min      -5.000000   -1000.000000    NaN    0.000000       NaN\n",
       "25%      23.988273   37726.305475    NaN    0.000000       NaN\n",
       "50%      28.843517   51028.444622    NaN    1.000000       NaN\n",
       "75%      34.967142   58315.989946    NaN    1.000000       NaN\n",
       "max     120.000000  200000.000000    NaN    1.000000       NaN"
      ]
     },
     "metadata": {},
     "output_type": "display_data"
    },
    {
     "name": "stdout",
     "output_type": "stream",
     "text": [
      "\n",
      "Valores faltantes por columna:\n"
     ]
    },
    {
     "data": {
      "text/plain": [
       "Age            1\n",
       "Income         1\n",
       "Gender        20\n",
       "Registered     1\n",
       "City           1\n",
       "dtype: int64"
      ]
     },
     "metadata": {},
     "output_type": "display_data"
    },
    {
     "name": "stdout",
     "output_type": "stream",
     "text": [
      "\n",
      "Distribución de género:\n"
     ]
    },
    {
     "data": {
      "text/plain": [
       "Gender\n",
       "NaN       20\n",
       "Male      12\n",
       "Female    11\n",
       "MALE      11\n",
       "FEMALE    10\n",
       "male      10\n",
       "female    10\n",
       "femle     10\n",
       "Femael    10\n",
       "Name: count, dtype: int64"
      ]
     },
     "metadata": {},
     "output_type": "display_data"
    },
    {
     "name": "stdout",
     "output_type": "stream",
     "text": [
      "\n",
      "Ciudades más comunes:\n"
     ]
    },
    {
     "data": {
      "text/plain": [
       "City\n",
       "New York    27\n",
       "Berlin      26\n",
       "Paris       25\n",
       "Tokyo       25\n",
       "NaN          1\n",
       "Name: count, dtype: int64"
      ]
     },
     "metadata": {},
     "output_type": "display_data"
    }
   ],
   "source": [
    "\n",
    "print(\"Estadísticas descriptivas:\")\n",
    "display(df.describe(include='all'))\n",
    "\n",
    "\n",
    "print(\"\\nValores faltantes por columna:\")\n",
    "display(df.isnull().sum())\n",
    "\n",
    "print(\"\\nDistribución de género:\")\n",
    "display(df['Gender'].value_counts(dropna=False))\n",
    "\n",
    "print(\"\\nCiudades más comunes:\")\n",
    "display(df['City'].value_counts(dropna=False))"
   ]
  },
  {
   "cell_type": "markdown",
   "id": "93be0226",
   "metadata": {},
   "source": [
    "### Visualizaciones (Cuarta Celda)"
   ]
  },
  {
   "cell_type": "code",
   "execution_count": 10,
   "id": "cb54a07d",
   "metadata": {},
   "outputs": [
    {
     "data": {
      "image/png": "[encoded data removed]",
      "text/plain": [
       "<Figure size 1500x1000 with 4 Axes>"
      ]
     },
     "metadata": {},
     "output_type": "display_data"
    }
   ],
   "source": [
    "\n",
    "plt.figure(figsize=(15, 10))\n",
    "\n",
    "\n",
    "plt.subplot(2, 2, 1)\n",
    "sns.histplot(df['Age'], bins=30, kde=True)\n",
    "plt.title('Distribución de Edad')\n",
    "\n",
    "plt.subplot(2, 2, 2)\n",
    "sns.boxplot(y=df['Income'])\n",
    "plt.title('Distribución de Ingresos')\n",
    "\n",
    "\n",
    "plt.subplot(2, 2, 3)\n",
    "df['Gender'].value_counts().plot(kind='bar')\n",
    "plt.title('Distribución de Género')\n",
    "\n",
    "plt.subplot(2, 2, 4)\n",
    "df['Registered'].value_counts().plot(kind='pie', autopct='%1.1f%%')\n",
    "plt.title('Distribución de Registros')\n",
    "\n",
    "plt.tight_layout()\n",
    "plt.show()"
   ]
  },
  {
   "cell_type": "markdown",
   "id": "91629739",
   "metadata": {},
   "source": [
    "#### Data Cleaning"
   ]
  },
  {
   "cell_type": "code",
   "execution_count": 11,
   "id": "2bd5c237",
   "metadata": {},
   "outputs": [
    {
     "name": "stdout",
     "output_type": "stream",
     "text": [
      "Dimensión después de limpieza: (100, 5)\n"
     ]
    }
   ],
   "source": [
    "\n",
    "df_clean = df.copy()\n",
    "\n",
    "\n",
    "df_clean = df_clean.drop_duplicates()\n",
    "\n",
    "\n",
    "gender_map = {\n",
    "    'MALE': 'Male', 'male': 'Male',\n",
    "    'FEMALE': 'Female', 'female': 'Female',\n",
    "    'femle': 'Female', 'Femael': 'Female'\n",
    "}\n",
    "df_clean['Gender'] = df_clean['Gender'].replace(gender_map)\n",
    "\n",
    "df_clean = df_clean[(df_clean['Age'] >= 0) & (df_clean['Age'] <= 100)]\n",
    "\n",
    "\n",
    "df_clean = df_clean[(df_clean['Income'] >= 0) & (df_clean['Income'] <= 150000)]\n",
    "\n",
    "df_clean['Registered'] = df_clean['Registered'].fillna(0).astype(int)\n",
    "\n",
    "df_clean['City'] = df_clean['City'].fillna('Unknown')\n",
    "\n",
    "print(\"Dimensión después de limpieza:\", df_clean.shape)\n"
   ]
  },
  {
   "cell_type": "markdown",
   "id": "4ac70f5c",
   "metadata": {},
   "source": [
    "### Manejo de Valores Faltantes (Sexta Celda)"
   ]
  },
  {
   "cell_type": "code",
   "execution_count": 12,
   "id": "8f9668c9",
   "metadata": {},
   "outputs": [
    {
     "name": "stdout",
     "output_type": "stream",
     "text": [
      "Distribución actual de género:\n",
      " Gender\n",
      "Female    0.625\n",
      "Male      0.375\n",
      "Name: proportion, dtype: float64\n",
      "\n",
      "Valores faltantes después de imputación:\n"
     ]
    },
    {
     "data": {
      "text/plain": [
       "Age           0\n",
       "Income        0\n",
       "Gender        0\n",
       "Registered    0\n",
       "City          0\n",
       "dtype: int64"
      ]
     },
     "metadata": {},
     "output_type": "display_data"
    }
   ],
   "source": [
    "\n",
    "gender_dist = df_clean['Gender'].value_counts(normalize=True)\n",
    "print(\"Distribución actual de género:\\n\", gender_dist)\n",
    "\n",
    "\n",
    "random_gender = np.random.choice(['Male', 'Female'], \n",
    "                               p=gender_dist.values, \n",
    "                               size=df_clean['Gender'].isnull().sum())\n",
    "df_clean.loc[df_clean['Gender'].isnull(), 'Gender'] = random_gender\n",
    "\n",
    "print(\"\\nValores faltantes después de imputación:\")\n",
    "display(df_clean.isnull().sum())"
   ]
  },
  {
   "cell_type": "markdown",
   "id": "45c695ef",
   "metadata": {},
   "source": [
    "### 5. Variable Transformations (Transformaciones)"
   ]
  },
  {
   "cell_type": "code",
   "execution_count": 13,
   "id": "d9f4942f",
   "metadata": {},
   "outputs": [
    {
     "name": "stdout",
     "output_type": "stream",
     "text": [
      "Forma de los datos transformados: (100, 8)\n",
      "\n",
      "Nombres de características: ['Age', 'Income', 'Gender_Female', 'Gender_Male', 'City_Berlin', 'City_New York', 'City_Paris', 'City_Tokyo']\n"
     ]
    }
   ],
   "source": [
    "\n",
    "numeric_features = ['Age', 'Income']\n",
    "numeric_transformer = Pipeline(steps=[\n",
    "    ('imputer', SimpleImputer(strategy='median')),\n",
    "    ('scaler', StandardScaler())])\n",
    "\n",
    "categorical_features = ['Gender', 'City']\n",
    "categorical_transformer = Pipeline(steps=[\n",
    "    ('imputer', SimpleImputer(strategy='constant', fill_value='Unknown')),\n",
    "    ('onehot', OneHotEncoder(handle_unknown='ignore'))])\n",
    "\n",
    "preprocessor = ColumnTransformer(\n",
    "    transformers=[\n",
    "        ('num', numeric_transformer, numeric_features),\n",
    "        ('cat', categorical_transformer, categorical_features)])\n",
    "\n",
    "\n",
    "X_transformed = preprocessor.fit_transform(df_clean)\n",
    "\n",
    "\n",
    "cat_encoder = preprocessor.named_transformers_['cat'].named_steps['onehot']\n",
    "feature_names = numeric_features + list(cat_encoder.get_feature_names_out(categorical_features))\n",
    "\n",
    "print(\"Forma de los datos transformados:\", X_transformed.shape)\n",
    "print(\"\\nNombres de características:\", feature_names)"
   ]
  },
  {
   "cell_type": "markdown",
   "id": "ad1736e6",
   "metadata": {},
   "source": [
    "### Creación de Nuevas Variables (Octava Celda)"
   ]
  },
  {
   "cell_type": "code",
   "execution_count": 14,
   "id": "5ac63c38",
   "metadata": {},
   "outputs": [
    {
     "data": {
      "text/html": [
       "<div>\n",
       "<style scoped>\n",
       "    .dataframe tbody tr th:only-of-type {\n",
       "        vertical-align: middle;\n",
       "    }\n",
       "\n",
       "    .dataframe tbody tr th {\n",
       "        vertical-align: top;\n",
       "    }\n",
       "\n",
       "    .dataframe thead th {\n",
       "        text-align: right;\n",
       "    }\n",
       "</style>\n",
       "<table border=\"1\" class=\"dataframe\">\n",
       "  <thead>\n",
       "    <tr style=\"text-align: right;\">\n",
       "      <th></th>\n",
       "      <th>Age</th>\n",
       "      <th>AgeGroup</th>\n",
       "      <th>Income</th>\n",
       "      <th>HighIncome</th>\n",
       "    </tr>\n",
       "  </thead>\n",
       "  <tbody>\n",
       "    <tr>\n",
       "      <th>39</th>\n",
       "      <td>31.968612</td>\n",
       "      <td>30-45</td>\n",
       "      <td>31537.035253</td>\n",
       "      <td>0</td>\n",
       "    </tr>\n",
       "    <tr>\n",
       "      <th>41</th>\n",
       "      <td>31.713683</td>\n",
       "      <td>30-45</td>\n",
       "      <td>69607.141314</td>\n",
       "      <td>1</td>\n",
       "    </tr>\n",
       "    <tr>\n",
       "      <th>79</th>\n",
       "      <td>10.124311</td>\n",
       "      <td>&lt;18</td>\n",
       "      <td>90802.537499</td>\n",
       "      <td>1</td>\n",
       "    </tr>\n",
       "    <tr>\n",
       "      <th>48</th>\n",
       "      <td>33.436183</td>\n",
       "      <td>30-45</td>\n",
       "      <td>57829.123484</td>\n",
       "      <td>0</td>\n",
       "    </tr>\n",
       "    <tr>\n",
       "      <th>53</th>\n",
       "      <td>36.116763</td>\n",
       "      <td>30-45</td>\n",
       "      <td>53483.805457</td>\n",
       "      <td>0</td>\n",
       "    </tr>\n",
       "  </tbody>\n",
       "</table>\n",
       "</div>"
      ],
      "text/plain": [
       "          Age AgeGroup        Income  HighIncome\n",
       "39  31.968612    30-45  31537.035253           0\n",
       "41  31.713683    30-45  69607.141314           1\n",
       "79  10.124311      <18  90802.537499           1\n",
       "48  33.436183    30-45  57829.123484           0\n",
       "53  36.116763    30-45  53483.805457           0"
      ]
     },
     "metadata": {},
     "output_type": "display_data"
    }
   ],
   "source": [
    "\n",
    "bins = [0, 18, 30, 45, 60, 100]\n",
    "labels = ['<18', '18-30', '30-45', '45-60', '60+']\n",
    "df_clean['AgeGroup'] = pd.cut(df_clean['Age'], bins=bins, labels=labels)\n",
    "\n",
    "income_threshold = df_clean['Income'].quantile(0.75)\n",
    "df_clean['HighIncome'] = (df_clean['Income'] > income_threshold).astype(int)\n",
    "\n",
    "\n",
    "display(df_clean[['Age', 'AgeGroup', 'Income', 'HighIncome']].sample(5))"
   ]
  },
  {
   "cell_type": "code",
   "execution_count": 15,
   "id": "0237014d",
   "metadata": {},
   "outputs": [],
   "source": [
    "df_clean.to_csv('cleaned_synthetic_data.csv', index=False)"
   ]
  },
  {
   "cell_type": "code",
   "execution_count": null,
   "id": "b612906d",
   "metadata": {},
   "outputs": [],
   "source": []
  },
  {
   "cell_type": "code",
   "execution_count": null,
   "id": "7d9cc8b9",
   "metadata": {},
   "outputs": [],
   "source": []
  },
  {
   "cell_type": "code",
   "execution_count": null,
   "id": "c1f87398",
   "metadata": {},
   "outputs": [],
   "source": []
  },
  {
   "cell_type": "code",
   "execution_count": null,
   "id": "3dafd882",
   "metadata": {},
   "outputs": [],
   "source": []
  },
  {
   "cell_type": "code",
   "execution_count": null,
   "id": "3a00428f",
   "metadata": {},
   "outputs": [],
   "source": []
  },
  {
   "cell_type": "code",
   "execution_count": null,
   "id": "17e9a5da",
   "metadata": {},
   "outputs": [],
   "source": []
  },
  {
   "cell_type": "code",
   "execution_count": null,
   "id": "95b9147e",
   "metadata": {},
   "outputs": [],
   "source": []
  },
  {
   "cell_type": "code",
   "execution_count": null,
   "id": "147e4be2",
   "metadata": {},
   "outputs": [],
   "source": []
  },
  {
   "cell_type": "code",
   "execution_count": null,
   "id": "d2763b70",
   "metadata": {},
   "outputs": [],
   "source": []
  },
  {
   "cell_type": "code",
   "execution_count": null,
   "id": "c987348e",
   "metadata": {},
   "outputs": [],
   "source": []
  },
  {
   "cell_type": "code",
   "execution_count": null,
   "id": "9a04ad9c",
   "metadata": {},
   "outputs": [],
   "source": []
  },
  {
   "cell_type": "code",
   "execution_count": null,
   "id": "a255d02a",
   "metadata": {},
   "outputs": [],
   "source": []
  },
  {
   "cell_type": "code",
   "execution_count": null,
   "id": "792fdb6b",
   "metadata": {},
   "outputs": [],
   "source": [
    "\n"
   ]
  },
  {
   "cell_type": "code",
   "execution_count": null,
   "id": "7a6dce66",
   "metadata": {},
   "outputs": [],
   "source": [
    "\n"
   ]
  },
  {
   "cell_type": "code",
   "execution_count": null,
   "id": "7fb4ab77",
   "metadata": {},
   "outputs": [],
   "source": []
  },
  {
   "cell_type": "code",
   "execution_count": null,
   "id": "b6f5e5ac",
   "metadata": {},
   "outputs": [],
   "source": []
  },
  {
   "cell_type": "code",
   "execution_count": null,
   "id": "b6e86b66",
   "metadata": {},
   "outputs": [],
   "source": []
  },
  {
   "cell_type": "code",
   "execution_count": null,
   "id": "6435b92e",
   "metadata": {},
   "outputs": [],
   "source": []
  },
  {
   "cell_type": "code",
   "execution_count": null,
   "id": "ec4ad369",
   "metadata": {},
   "outputs": [],
   "source": []
  },
  {
   "cell_type": "code",
   "execution_count": null,
   "id": "ead9c4a6",
   "metadata": {},
   "outputs": [],
   "source": []
  },
  {
   "cell_type": "code",
   "execution_count": null,
   "id": "b299aa03",
   "metadata": {},
   "outputs": [],
   "source": []
  },
  {
   "cell_type": "code",
   "execution_count": null,
   "id": "65e88f85",
   "metadata": {},
   "outputs": [],
   "source": []
  },
  {
   "cell_type": "markdown",
   "id": "6901825f",
   "metadata": {},
   "source": [
    "#### Variable Tranformations\n"
   ]
  },
  {
   "cell_type": "code",
   "execution_count": null,
   "id": "d2971a59",
   "metadata": {},
   "outputs": [],
   "source": []
  },
  {
   "cell_type": "code",
   "execution_count": null,
   "id": "8f173544",
   "metadata": {},
   "outputs": [],
   "source": [
    "\n"
   ]
  },
  {
   "cell_type": "code",
   "execution_count": null,
   "id": "c9721593",
   "metadata": {},
   "outputs": [],
   "source": []
  },
  {
   "cell_type": "code",
   "execution_count": null,
   "id": "d8b8b803",
   "metadata": {},
   "outputs": [],
   "source": []
  },
  {
   "cell_type": "code",
   "execution_count": null,
   "id": "0789a968",
   "metadata": {},
   "outputs": [],
   "source": []
  },
  {
   "cell_type": "code",
   "execution_count": null,
   "id": "14f35a1c",
   "metadata": {},
   "outputs": [],
   "source": []
  },
  {
   "cell_type": "code",
   "execution_count": null,
   "id": "59d3cf1f",
   "metadata": {},
   "outputs": [],
   "source": []
  },
  {
   "cell_type": "code",
   "execution_count": null,
   "id": "ccf57755",
   "metadata": {},
   "outputs": [],
   "source": []
  },
  {
   "cell_type": "code",
   "execution_count": null,
   "id": "7986abfe",
   "metadata": {},
   "outputs": [],
   "source": []
  },
  {
   "cell_type": "code",
   "execution_count": null,
   "id": "6d355c3b",
   "metadata": {},
   "outputs": [],
   "source": []
  },
  {
   "cell_type": "code",
   "execution_count": null,
   "id": "a270a19f",
   "metadata": {},
   "outputs": [],
   "source": []
  }
 ],
 "metadata": {
  "kernelspec": {
   "display_name": "Python 3",
   "language": "python",
   "name": "python3"
  },
  "language_info": {
   "codemirror_mode": {
    "name": "ipython",
    "version": 3
   },
   "file_extension": ".py",
   "mimetype": "text/x-python",
   "name": "python",
   "nbconvert_exporter": "python",
   "pygments_lexer": "ipython3",
   "version": "3.12.4"
  }
 },
 "nbformat": 4,
 "nbformat_minor": 5
}
